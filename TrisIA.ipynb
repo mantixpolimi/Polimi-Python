{
 "metadata": {
  "name": ""
 },
 "nbformat": 3,
 "nbformat_minor": 0,
 "worksheets": [
  {
   "cells": [
    {
     "cell_type": "code",
     "collapsed": false,
     "input": [
      "def ppmatrix(m): \n",
      "    print (\"__________________________________________________\")\n",
      "    for riga in m: \n",
      "        string = \"|\\t\"\n",
      "        for el in riga:\n",
      "            string = string +  str(el) + \"\\t | \\t\"            \n",
      "        print (string)\n",
      "        print (\"__________________________________________________\")"
     ],
     "language": "python",
     "metadata": {},
     "outputs": [],
     "prompt_number": 1
    },
    {
     "cell_type": "code",
     "collapsed": false,
     "input": [
      "def init(val):\n",
      "    return [[val, val, val],[val, val, val],[val, val, val]]"
     ],
     "language": "python",
     "metadata": {},
     "outputs": [],
     "prompt_number": 2
    },
    {
     "cell_type": "code",
     "collapsed": false,
     "input": [
      "def control_r(field):\n",
      "    for riga in field:\n",
      "        if (len(set(riga)) == 1) and (not(set(riga) == set(['']) )) :\n",
      "            return True\n",
      "    return False"
     ],
     "language": "python",
     "metadata": {},
     "outputs": [],
     "prompt_number": 3
    },
    {
     "cell_type": "code",
     "collapsed": false,
     "input": [
      "def invertM(field):\n",
      "    i = 0\n",
      "    j = 0\n",
      "    r = init('')\n",
      "    for riga in field:\n",
      "        i = 0\n",
      "        for ele in riga:\n",
      "            r[i][j] = ele\n",
      "            i = i+1\n",
      "        j = j +1\n",
      "    return r\n",
      "        \n",
      "\n",
      "def control_c(field):\n",
      "    r = invertM(field) \n",
      "    return control_r(r)\n"
     ],
     "language": "python",
     "metadata": {},
     "outputs": [],
     "prompt_number": 24
    },
    {
     "cell_type": "code",
     "collapsed": false,
     "input": [
      "def control_d(field):\n",
      "    r = []\n",
      "    r1 = []\n",
      "    i = 0\n",
      "    j = 0\n",
      "    \n",
      "    for i in range(3):\n",
      "        r  = r  + [ field[i][i]   ]  \n",
      "        r1 = r1 + [ field[i][2-i] ]\n",
      "            \n",
      "    if ((len(set(r)) == 1) and (not(set(r) == set(['']) )) ) or ( (len(set(r1)) == 1 ) and (not(set(r1) == set(['']) ))):\n",
      "        return True\n",
      "    else:\n",
      "        return False \n",
      "    \n",
      "    return False"
     ],
     "language": "python",
     "metadata": {},
     "outputs": [],
     "prompt_number": 5
    },
    {
     "cell_type": "code",
     "collapsed": false,
     "input": [
      "def win(field):\n",
      "    return control_r(field) + control_c(field) + control_d(field)"
     ],
     "language": "python",
     "metadata": {},
     "outputs": [],
     "prompt_number": 6
    },
    {
     "cell_type": "code",
     "collapsed": false,
     "input": [],
     "language": "python",
     "metadata": {},
     "outputs": []
    },
    {
     "cell_type": "code",
     "collapsed": false,
     "input": [
      "def insert(field, x, y, player):\n",
      "    x = x-1\n",
      "    y = y-1\n",
      "    if abs(x) < len(field) and abs(y) < len(field[0]):\n",
      "        field[x][y] = player\n",
      "    #ppmatrix(field)\n",
      "    "
     ],
     "language": "python",
     "metadata": {},
     "outputs": [],
     "prompt_number": 7
    },
    {
     "cell_type": "code",
     "collapsed": false,
     "input": [
      "def check_next(player, field):\n",
      "    import copy     \n",
      "    i = 0\n",
      "    j = 0\n",
      "    for riga in field:\n",
      "        i = 0\n",
      "        for ele in riga:\n",
      "            if ele == '':\n",
      "                r = copy.deepcopy(field)\n",
      "                r[j][i] = player\n",
      "                #ppmatrix(r)\n",
      "                #print win(r)\n",
      "                if win(r) : \n",
      "                    return [j+1,i+1]                \n",
      "            i = i+1            \n",
      "        j = j+1        \n",
      "    return False\n",
      "\n",
      "\n",
      "\n",
      "def control_vs(vs, field, fieldP):\n",
      "    j = 0\n",
      "    i = 0\n",
      "    peso = -2\n",
      "        \n",
      "    #print peso\n",
      "        \n",
      "    for riga in field:\n",
      "        i = 0\n",
      "        for ele in riga:\n",
      "            if ele == vs:\n",
      "                for c in range(3):\n",
      "                    if field[j][c] == '' : fieldP[j][c] = fieldP[j][c] + peso\n",
      "                    if field[c][i] == '' : fieldP[c][i] = fieldP[c][i] + peso\n",
      "            i = i + 1\n",
      "        j = j + 1  \n",
      "        \n",
      "        \n",
      "    \n",
      "def control_IA(IA, field, fieldP):\n",
      "    j = 0\n",
      "    i = 0   \n",
      "    peso =  2\n",
      "        \n",
      "   # print peso\n",
      "        \n",
      "    for riga in field:\n",
      "        i = 0\n",
      "        for ele in riga:\n",
      "            if ele == IA:\n",
      "                for c in range(3):\n",
      "                    if field[j][c] == '' : fieldP[j][c] = fieldP[j][c] + peso\n",
      "                    if field[c][i] == '' : fieldP[c][i] = fieldP[c][i] + peso\n",
      "            i = i + 1\n",
      "        j = j + 1 \n",
      "        \n",
      "        \n",
      "    \n",
      "def onlyFree(field, fieldP):\n",
      "    j = 0\n",
      "    i = 0        \n",
      "    for riga in field:\n",
      "        i = 0\n",
      "        for ele in riga:\n",
      "            if ele != '' : fieldP[j][i] = -999                \n",
      "            i = i + 1            \n",
      "        j = j + 1  \n",
      "        \n",
      "        \n",
      "    \n",
      "    \n",
      "def choose_best(fieldP):\n",
      "    i = 0\n",
      "    j = 0\n",
      "    All = range(9)\n",
      "    for j in range(3):\n",
      "        for i in range(3):\n",
      "            All[j*3 + i] = fieldP[j][i]\n",
      "    Max = max(All)    \n",
      "    for j in range(3):\n",
      "        for i in range(3):\n",
      "            if fieldP[j][i] == Max : return [j+1,i+1]\n",
      "            \n",
      "            \n",
      "\n",
      "def count_win(player,field):\n",
      "    import copy     \n",
      "    i = 0\n",
      "    j = 0\n",
      "    conta = 0\n",
      "    for riga in field:\n",
      "        i = 0\n",
      "        for ele in riga:\n",
      "            if ele == '':\n",
      "                r = copy.deepcopy(field)\n",
      "                r[j][i] = player\n",
      "                if win(r) : \n",
      "                    conta = conta + 1                \n",
      "            i = i+1            \n",
      "        j = j+1        \n",
      "    return conta\n",
      "\n",
      "\n",
      "\n",
      "def control_spec(IA, vs, field, fieldP):\n",
      "    import copy\n",
      "    peso = 10\n",
      "    peso1 = 100\n",
      "    for j in range(3):\n",
      "        for i in range(3):\n",
      "            copia = copy.deepcopy(field)\n",
      "            if (copia[j][i] == \"\"):\n",
      "                copia[j][i] = IA\n",
      "                if count_win(IA,copia) > 1 : fieldP[j][i] = fieldP[j][i] + peso1\n",
      "                move = check_next(IA, copia)\n",
      "                if  move != False :\n",
      "                    copia[move[0]-1][move[1]-1] = vs \n",
      "                    \n",
      "                    for j1 in range(3):\n",
      "                        for i1 in range(3):\n",
      "                            copia1 = copy.deepcopy(copia)\n",
      "                            if (copia1[j1][i1] == \"\"):\n",
      "                                vs_move = check_next(vs, copia1)\n",
      "                                copia1 = copy.deepcopy(copia)\n",
      "                                copia1[j1][i1] = IA \n",
      "                                \n",
      "                                if not(vs_move) or (vs_move == [j1,i1]):                                \n",
      "                                    if count_win(IA, copia1) == 2:\n",
      "                                        fieldP[j][i] = fieldP[j][i] + peso \n",
      "                                        print fieldP[j][i]\n",
      "                                        \n",
      "                                        \n",
      "                                    \n",
      "      \n",
      "    \n",
      "    \n",
      "def IA_move( IA, vs, field):\n",
      "    fieldP = init(0)    \n",
      "    \n",
      "    control_vs(vs, field, fieldP)\n",
      "\n",
      "    control_IA(IA, field, fieldP)\n",
      "    \n",
      "    fieldP[1][1] = fieldP[1][1] + 3\n",
      "    \n",
      "    \n",
      "    onlyFree(field, fieldP)\n",
      "    \n",
      "    control_spec(IA, vs, field, fieldP)\n",
      "    \n",
      "    ppmatrix(fieldP)\n",
      "    return choose_best(fieldP)\n",
      "\n",
      "\n",
      " \n",
      "\n",
      "def IAPlay(IA, vs, field):\n",
      "    move = check_next(IA, field)\n",
      "    #print \"move\" + str(move)\n",
      "    if not(move):\n",
      "        move = check_next(vs, field)\n",
      "        #print  \"move\" + str(move)\n",
      "        if not(move):\n",
      "            move = IA_move(IA, vs, field)\n",
      "           # print  \"move\" + str(move)\n",
      "    insert(field, move[0], move[1], IA)\n",
      "    \n",
      "    "
     ],
     "language": "python",
     "metadata": {},
     "outputs": [],
     "prompt_number": 8
    },
    {
     "cell_type": "code",
     "collapsed": false,
     "input": [
      "field = init('')\n",
      "IA1 = \"X\"\n",
      "me  = \"O\""
     ],
     "language": "python",
     "metadata": {},
     "outputs": [],
     "prompt_number": 15
    },
    {
     "cell_type": "code",
     "collapsed": false,
     "input": [
      "IAPlay(IA1, IA2, field)\n",
      "IAPlay(IA2, IA1, field)\n",
      "IAPlay(IA1, IA2, field)\n",
      "IAPlay(IA2, IA1, field)\n",
      "IAPlay(IA1, IA2, field)\n",
      "ppmatrix(field)"
     ],
     "language": "python",
     "metadata": {},
     "outputs": [
      {
       "output_type": "stream",
       "stream": "stdout",
       "text": [
        "__________________________________________________\n",
        "|\t0\t | \t0\t | \t0\t | \t\n",
        "__________________________________________________\n",
        "|\t0\t | \t3\t | \t0\t | \t\n",
        "__________________________________________________\n",
        "|\t0\t | \t0\t | \t0\t | \t\n",
        "__________________________________________________\n",
        "__________________________________________________\n",
        "|\t0\t | \t-2\t | \t0\t | \t\n",
        "__________________________________________________\n",
        "|\t-2\t | \t-999\t | \t-2\t | \t\n",
        "__________________________________________________\n",
        "|\t0\t | \t-2\t | \t0\t | \t\n",
        "__________________________________________________\n",
        "__________________________________________________\n",
        "|\t-999\t | \t0\t | \t-2\t | \t\n",
        "__________________________________________________\n",
        "|\t0\t | \t-999\t | \t2\t | \t\n",
        "__________________________________________________\n",
        "|\t-2\t | \t2\t | \t0\t | \t\n",
        "__________________________________________________\n",
        "__________________________________________________\n",
        "|\tO\t | \t\t | \t\t | \t\n",
        "__________________________________________________\n",
        "|\tO\t | \tX\t | \tX\t | \t\n",
        "__________________________________________________\n",
        "|\tX\t | \t\t | \t\t | \t\n",
        "__________________________________________________\n"
       ]
      }
     ],
     "prompt_number": 10
    },
    {
     "cell_type": "code",
     "collapsed": false,
     "input": [
      "IAPlay(IA2, IA1, field)\n",
      "#insert(field, 1,2, \"\")\n",
      "ppmatrix(field)\n",
      "win(field)"
     ],
     "language": "python",
     "metadata": {},
     "outputs": [
      {
       "output_type": "stream",
       "stream": "stdout",
       "text": [
        "__________________________________________________\n",
        "|\tO\t | \t\t | \tO\t | \t\n",
        "__________________________________________________\n",
        "|\tO\t | \tX\t | \tX\t | \t\n",
        "__________________________________________________\n",
        "|\tX\t | \t\t | \t\t | \t\n",
        "__________________________________________________\n"
       ]
      },
      {
       "metadata": {},
       "output_type": "pyout",
       "prompt_number": 11,
       "text": [
        "0"
       ]
      }
     ],
     "prompt_number": 11
    },
    {
     "cell_type": "code",
     "collapsed": false,
     "input": [
      "IAPlay(IA1, IA2, field)\n",
      "#insert(field, 1,2, \"\")\n",
      "ppmatrix(field)"
     ],
     "language": "python",
     "metadata": {},
     "outputs": [
      {
       "output_type": "stream",
       "stream": "stdout",
       "text": [
        "__________________________________________________\n",
        "|\tO\t | \tX\t | \tO\t | \t\n",
        "__________________________________________________\n",
        "|\tO\t | \tX\t | \tX\t | \t\n",
        "__________________________________________________\n",
        "|\tX\t | \t\t | \t\t | \t\n",
        "__________________________________________________\n"
       ]
      }
     ],
     "prompt_number": 12
    },
    {
     "cell_type": "code",
     "collapsed": false,
     "input": [
      "insert(field, 2,1, me)\n",
      "ppmatrix(field)"
     ],
     "language": "python",
     "metadata": {},
     "outputs": [
      {
       "output_type": "stream",
       "stream": "stdout",
       "text": [
        "__________________________________________________\n",
        "|\tX\t | \t\t | \tX\t | \t\n",
        "__________________________________________________\n",
        "|\tO\t | \tO\t | \t\t | \t\n",
        "__________________________________________________\n",
        "|\tO\t | \t\t | \t\t | \t\n",
        "__________________________________________________\n"
       ]
      }
     ],
     "prompt_number": 22
    },
    {
     "cell_type": "code",
     "collapsed": false,
     "input": [
      "IAPlay(IA1, me, field)\n",
      "ppmatrix(field)"
     ],
     "language": "python",
     "metadata": {},
     "outputs": [
      {
       "output_type": "stream",
       "stream": "stdout",
       "text": [
        "__________________________________________________\n",
        "|\tX\t | \tX\t | \tX\t | \t\n",
        "__________________________________________________\n",
        "|\tO\t | \tO\t | \t\t | \t\n",
        "__________________________________________________\n",
        "|\tO\t | \t\t | \t\t | \t\n",
        "__________________________________________________\n"
       ]
      }
     ],
     "prompt_number": 23
    },
    {
     "cell_type": "code",
     "collapsed": false,
     "input": [],
     "language": "python",
     "metadata": {},
     "outputs": []
    }
   ],
   "metadata": {}
  }
 ]
}
